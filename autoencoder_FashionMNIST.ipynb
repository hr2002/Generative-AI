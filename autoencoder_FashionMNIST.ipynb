{
  "nbformat": 4,
  "nbformat_minor": 0,
  "metadata": {
    "colab": {
      "provenance": [],
      "authorship_tag": "ABX9TyPGhQU9R+lLXHQjQPSdARzj",
      "include_colab_link": true
    },
    "kernelspec": {
      "name": "python3",
      "display_name": "Python 3"
    },
    "language_info": {
      "name": "python"
    }
  },
  "cells": [
    {
      "cell_type": "markdown",
      "metadata": {
        "id": "view-in-github",
        "colab_type": "text"
      },
      "source": [
        "<a href=\"https://colab.research.google.com/github/hr2002/Generative-AI/blob/main/autoencoder_FashionMNIST.ipynb\" target=\"_parent\"><img src=\"https://colab.research.google.com/assets/colab-badge.svg\" alt=\"Open In Colab\"/></a>"
      ]
    },
    {
      "cell_type": "code",
      "source": [
        "import numpy as np\n",
        "from tensorflow.keras import models,layers\n",
        "from tensorflow.keras import backend as K\n",
        "import matplotlib.pyplot as plt"
      ],
      "metadata": {
        "id": "cHwixe4-Yu-u"
      },
      "execution_count": 1,
      "outputs": []
    },
    {
      "cell_type": "code",
      "execution_count": 2,
      "metadata": {
        "colab": {
          "base_uri": "https://localhost:8080/"
        },
        "id": "GXvMDgEhXQRP",
        "outputId": "9c8e64b1-990b-42db-bd9a-6971674676b7"
      },
      "outputs": [
        {
          "output_type": "stream",
          "name": "stdout",
          "text": [
            "Downloading data from https://storage.googleapis.com/tensorflow/tf-keras-datasets/train-labels-idx1-ubyte.gz\n",
            "29515/29515 [==============================] - 0s 0us/step\n",
            "Downloading data from https://storage.googleapis.com/tensorflow/tf-keras-datasets/train-images-idx3-ubyte.gz\n",
            "26421880/26421880 [==============================] - 0s 0us/step\n",
            "Downloading data from https://storage.googleapis.com/tensorflow/tf-keras-datasets/t10k-labels-idx1-ubyte.gz\n",
            "5148/5148 [==============================] - 0s 0us/step\n",
            "Downloading data from https://storage.googleapis.com/tensorflow/tf-keras-datasets/t10k-images-idx3-ubyte.gz\n",
            "4422102/4422102 [==============================] - 0s 0us/step\n"
          ]
        }
      ],
      "source": [
        "from tensorflow.keras import datasets\n",
        "(x_train , y_train), (x_test , y_test) = datasets.fashion_mnist.load_data()"
      ]
    },
    {
      "cell_type": "code",
      "source": [
        "def preprocess(imgs):\n",
        "  imgs = imgs.astype(\"float32\") / 255.0\n",
        "  imgs = np.pad(imgs,((0,0),(2,2),(2,2)), constant_values=0.0)\n",
        "  imgs = np.expand_dims(imgs, -1)\n",
        "  return imgs\n",
        "x_train = preprocess(x_train)\n",
        "x_test = preprocess(x_test)"
      ],
      "metadata": {
        "id": "Ji8h_QJiX3RQ"
      },
      "execution_count": 3,
      "outputs": []
    },
    {
      "cell_type": "code",
      "source": [
        "#ENCODER\n",
        "encoder_input = layers.Input(shape = (32,32,1),name = \"encoder_input\")\n",
        "x = layers.Conv2D(32,(3,3),strides = 2, activation='relu',padding = \"same\")(encoder_input)\n",
        "x = layers.Conv2D(64,(3,3),strides = 2, activation='relu',padding = \"same\")(x)\n",
        "x = layers.Conv2D(128,(3,3),strides = 2, activation='relu',padding = \"same\")(x)\n",
        "shape_before_flattening = K.int_shape(x)[1:]\n",
        "x = layers.Flatten()(x)\n",
        "encoder_output = layers.Dense(2, name=\"encoder_output\")(x)\n",
        "encoder = models.Model(encoder_input, encoder_output)"
      ],
      "metadata": {
        "id": "OmPNkZyjgi0R"
      },
      "execution_count": 4,
      "outputs": []
    },
    {
      "cell_type": "code",
      "source": [
        "encoder.summary()"
      ],
      "metadata": {
        "colab": {
          "base_uri": "https://localhost:8080/"
        },
        "id": "Xwe-EQGNhlo4",
        "outputId": "8e6cff09-f697-47e8-cc18-2928ccc72d43"
      },
      "execution_count": 5,
      "outputs": [
        {
          "output_type": "stream",
          "name": "stdout",
          "text": [
            "Model: \"model\"\n",
            "_________________________________________________________________\n",
            " Layer (type)                Output Shape              Param #   \n",
            "=================================================================\n",
            " encoder_input (InputLayer)  [(None, 32, 32, 1)]       0         \n",
            "                                                                 \n",
            " conv2d (Conv2D)             (None, 16, 16, 32)        320       \n",
            "                                                                 \n",
            " conv2d_1 (Conv2D)           (None, 8, 8, 64)          18496     \n",
            "                                                                 \n",
            " conv2d_2 (Conv2D)           (None, 4, 4, 128)         73856     \n",
            "                                                                 \n",
            " flatten (Flatten)           (None, 2048)              0         \n",
            "                                                                 \n",
            " encoder_output (Dense)      (None, 2)                 4098      \n",
            "                                                                 \n",
            "=================================================================\n",
            "Total params: 96770 (378.01 KB)\n",
            "Trainable params: 96770 (378.01 KB)\n",
            "Non-trainable params: 0 (0.00 Byte)\n",
            "_________________________________________________________________\n"
          ]
        }
      ]
    },
    {
      "cell_type": "code",
      "source": [
        "#decodeur\n",
        "\n",
        "decoder_input = layers.Input(shape=(2,), name = \"decoder_input\")\n",
        "x = layers.Dense(np.prod(shape_before_flattening))(decoder_input)\n",
        "x = layers.Reshape(shape_before_flattening)(x)\n",
        "x = layers.Conv2DTranspose(128,(3,3), strides=2,activation = 'relu', padding=\"same\")(x)\n",
        "x = layers.Conv2DTranspose(64,(3,3), strides=2,activation = 'relu', padding=\"same\")(x)\n",
        "x = layers.Conv2DTranspose(32,(3,3), strides=2,activation = 'relu', padding=\"same\")(x)\n",
        "decoder_output = layers.Conv2D(1,(3,3),strides = 1, activation=\"sigmoid\",padding=\"same\",name=\"decoder_output\")(x)\n",
        "decoder = models.Model(decoder_input, decoder_output)"
      ],
      "metadata": {
        "id": "yFqdi6Vsivbc"
      },
      "execution_count": 6,
      "outputs": []
    },
    {
      "cell_type": "code",
      "source": [
        "decoder.summary()"
      ],
      "metadata": {
        "colab": {
          "base_uri": "https://localhost:8080/"
        },
        "id": "pSh0WfDGnb0d",
        "outputId": "69148587-ca09-415a-90b3-7816b75d5d35"
      },
      "execution_count": 7,
      "outputs": [
        {
          "output_type": "stream",
          "name": "stdout",
          "text": [
            "Model: \"model_1\"\n",
            "_________________________________________________________________\n",
            " Layer (type)                Output Shape              Param #   \n",
            "=================================================================\n",
            " decoder_input (InputLayer)  [(None, 2)]               0         \n",
            "                                                                 \n",
            " dense (Dense)               (None, 2048)              6144      \n",
            "                                                                 \n",
            " reshape (Reshape)           (None, 4, 4, 128)         0         \n",
            "                                                                 \n",
            " conv2d_transpose (Conv2DTr  (None, 8, 8, 128)         147584    \n",
            " anspose)                                                        \n",
            "                                                                 \n",
            " conv2d_transpose_1 (Conv2D  (None, 16, 16, 64)        73792     \n",
            " Transpose)                                                      \n",
            "                                                                 \n",
            " conv2d_transpose_2 (Conv2D  (None, 32, 32, 32)        18464     \n",
            " Transpose)                                                      \n",
            "                                                                 \n",
            " decoder_output (Conv2D)     (None, 32, 32, 1)         289       \n",
            "                                                                 \n",
            "=================================================================\n",
            "Total params: 246273 (962.00 KB)\n",
            "Trainable params: 246273 (962.00 KB)\n",
            "Non-trainable params: 0 (0.00 Byte)\n",
            "_________________________________________________________________\n"
          ]
        }
      ]
    },
    {
      "cell_type": "code",
      "source": [
        "autoencoder = models.Model(encoder_input, decoder(encoder_output))"
      ],
      "metadata": {
        "id": "gxOOfRVFnlYN"
      },
      "execution_count": 8,
      "outputs": []
    },
    {
      "cell_type": "code",
      "source": [
        "#compile l'autoencodeur\n",
        "autoencoder.compile(optimizer=\"adam\", loss=\"binary_crossentropy\")\n"
      ],
      "metadata": {
        "id": "cfEA5df9p0hn"
      },
      "execution_count": 9,
      "outputs": []
    },
    {
      "cell_type": "code",
      "source": [
        "autoencoder.fit(x_train,x_train,epochs=5,batch_size=100,shuffle=True,validation_data=(x_test,x_test),)"
      ],
      "metadata": {
        "colab": {
          "base_uri": "https://localhost:8080/"
        },
        "id": "wTYmb6aqsx1z",
        "outputId": "ed1b5b0c-652e-41bc-b91c-84d4ae411ace"
      },
      "execution_count": null,
      "outputs": [
        {
          "output_type": "stream",
          "name": "stdout",
          "text": [
            "Epoch 1/5\n",
            "600/600 [==============================] - 191s 310ms/step - loss: 0.2902 - val_loss: 0.2612\n",
            "Epoch 2/5\n",
            "600/600 [==============================] - 182s 303ms/step - loss: 0.2578 - val_loss: 0.2576\n",
            "Epoch 3/5\n",
            "600/600 [==============================] - 184s 307ms/step - loss: 0.2546 - val_loss: 0.2544\n",
            "Epoch 4/5\n",
            " 49/600 [=>............................] - ETA: 2:37 - loss: 0.2524"
          ]
        }
      ]
    },
    {
      "cell_type": "code",
      "source": [
        "example_images = x_test[:5000]\n",
        "predictions = autoencoder.predict(example_images)"
      ],
      "metadata": {
        "id": "mLPgN7octFpS"
      },
      "execution_count": null,
      "outputs": []
    },
    {
      "cell_type": "code",
      "source": [
        "fig, axes = plt.subplots(10, 3, figsize=(15, 2*10))\n",
        "\n",
        "for i in range(10):\n",
        "    # Plot original image\n",
        "    axes[i, 0].imshow(example_images[i].reshape(32, 32), cmap='gray')\n",
        "    axes[i, 0].set_title('Original')\n",
        "    axes[i, 0].axis('off')\n",
        "\n",
        "    # Plot reconstruction\n",
        "    axes[i, 1].imshow(predictions[i].reshape(32, 32), cmap='gray')\n",
        "    axes[i, 1].set_title('Reconstruction')\n",
        "    axes[i, 1].axis('off')\n",
        "\n",
        "    # Plot encoded representation (middle layer output)\n",
        "    encoded_rep = encoder.predict(example_images[i][np.newaxis, :])\n",
        "    axes[i, 2].imshow(encoded_rep.reshape(1, 2), cmap='gray')  # Assuming the encoded representation is 8x8\n",
        "    axes[i, 2].set_title('Encoded Representation')\n",
        "    axes[i, 2].axis('off')\n",
        "\n",
        "plt.tight_layout()\n",
        "plt.show()"
      ],
      "metadata": {
        "id": "6SjpucZT7q-J"
      },
      "execution_count": null,
      "outputs": []
    },
    {
      "cell_type": "code",
      "source": [
        "embeddings = encoder.predict(example_images)\n",
        "plt.figure(figsize=(8,8))\n",
        "plt.scatter(embeddings[:, 0], embeddings[:, 1], c=\"black\", alpha=0.5, s=3)\n",
        "plt.show()"
      ],
      "metadata": {
        "id": "ZQXeW7dd8RGS"
      },
      "execution_count": null,
      "outputs": []
    },
    {
      "cell_type": "code",
      "source": [
        "mins , maxs = np.min(embeddings, axis=0), np.max(embeddings, axis=0)\n",
        "sample = np.random.uniform(mins, maxs, size=(18,2))\n",
        "reconstructions = decoder.predict(sample)"
      ],
      "metadata": {
        "id": "vqkntBb5AY32"
      },
      "execution_count": null,
      "outputs": []
    },
    {
      "cell_type": "code",
      "source": [
        "fig, axes = plt.subplots(10, 3, figsize=(15, 2*10))\n",
        "\n",
        "for i in range(10):\n",
        "    # Plot original image\n",
        "    axes[i, 0].imshow(sample[i].reshape(1,2))\n",
        "    axes[i, 0].set_title('Original')\n",
        "    axes[i, 0].axis('off')\n",
        "\n",
        "    # Plot reconstruction\n",
        "    axes[i, 1].imshow(reconstructions[i].reshape(32, 32))\n",
        "    axes[i, 1].set_title('Reconstruction')\n",
        "    axes[i, 1].axis('off')\n",
        "\n",
        "    # Plot encoded representation (middle layer output)\n",
        "    encoded_rep = decoder.predict(sample[i][np.newaxis, :])\n",
        "    axes[i, 2].imshow(encoded_rep.reshape(32, 32))  # Assuming the encoded representation is 8x8\n",
        "    axes[i, 2].set_title('Encoded Representation')\n",
        "    axes[i, 2].axis('off')\n",
        "\n",
        "plt.tight_layout()\n",
        "plt.show()"
      ],
      "metadata": {
        "id": "AfZZXR4TH4Xc"
      },
      "execution_count": null,
      "outputs": []
    },
    {
      "cell_type": "code",
      "source": [],
      "metadata": {
        "id": "4fhRJTPhIFcq"
      },
      "execution_count": null,
      "outputs": []
    }
  ]
}